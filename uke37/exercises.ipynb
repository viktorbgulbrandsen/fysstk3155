{
 "cells": [
  {
   "cell_type": "markdown",
   "id": "3e39cd7c",
   "metadata": {},
   "source": [
    "# Exercises week 37\n",
    "**Implementing gradient descent for Ridge and ordinary Least Squares Regression**\n",
    "\n",
    "Date: **September 8-12, 2025**"
   ]
  },
  {
   "cell_type": "markdown",
   "id": "9ca4d1cc",
   "metadata": {},
   "source": [
    "## Simple one-dimensional second-order polynomial\n",
    "\n",
    "We start with a very simple function\n",
    "defined for $x\\in [-2,2]$. You can add noise if you wish. \n"
   ]
  },
  {
   "cell_type": "markdown",
   "id": "5c81d7c6",
   "metadata": {},
   "source": [
    "$$\n",
    "f(x)= 2-x+5x^2,\n",
    "$$"
   ]
  },
  {
   "cell_type": "code",
   "execution_count": 36,
   "id": "f6569500",
   "metadata": {},
   "outputs": [],
   "source": [
    "import numpy as np\n",
    "\n",
    "def sample_from_function(n=100, noise_level=0.1):\n",
    "    noise = np.random.normal(0, noise_level, n)\n",
    "    x = np.linspace(-2, 2, n)\n",
    "    y = 2 - x + 5 * x**2 + noise\n",
    "    return x, y\n",
    "\n",
    "x, y = sample_from_function(n=100, noise_level=0.1)\n",
    "# print(x)\n",
    "# print(y)"
   ]
  },
  {
   "cell_type": "markdown",
   "id": "63555e12",
   "metadata": {},
   "source": [
    "### 1a)\n",
    "\n",
    "We first need to create the feature matrix. \n"
   ]
  },
  {
   "cell_type": "code",
   "execution_count": 37,
   "id": "b317066f",
   "metadata": {},
   "outputs": [],
   "source": [
    "def polynomial_features(x, p):\n",
    "    n = len(x)\n",
    "    X = np.zeros((n, p+1))\n",
    "    for j in range(p+1):\n",
    "        X[:, j] = x**j\n",
    "    return X\n",
    "\n",
    "X = polynomial_features(x, 2)\n",
    "# print(X.shape)"
   ]
  },
  {
   "cell_type": "markdown",
   "id": "1bf97351",
   "metadata": {},
   "source": [
    "Compute the mean and standard deviation of each column (feature) in your design/feature matrix $\\boldsymbol{X}$.\n",
    "Subtract the mean and divide by the standard deviation for each feature.\n",
    "\n",
    "We will also center the target $\\boldsymbol{y}$ to mean $0$. Centering $\\boldsymbol{y}$\n",
    "(and each feature) means the model does not require a separate intercept\n",
    "term, the data is shifted such that the intercept is effectively 0\n",
    ". (In practice, one could include an intercept in the model and not\n",
    "penalize it, but here we simplify by centering.)\n",
    "Choose $n=100$ data points and set up $\\boldsymbol{x}$, $\\boldsymbol{y}$ and the design matrix $\\boldsymbol{X}$."
   ]
  },
  {
   "cell_type": "code",
   "execution_count": 38,
   "id": "h3mlgrrnw7g",
   "metadata": {},
   "outputs": [],
   "source": [
    "X_mean = X.mean(axis=0)\n",
    "X_std = X.std(axis=0)\n",
    "X_std[X_std == 0] = 1\n",
    "X_norm = (X - X_mean) / X_std\n",
    "\n",
    "y_mean = y.mean()\n",
    "y_centered = y - y_mean\n",
    "\n",
    "def check_centering():\n",
    "    print(f\"y mean: {y.mean()}\")\n",
    "    print(f\"y_centered mean: {y_centered.mean()}\")\n",
    "\n",
    "\n",
    "    from matplotlib import pyplot as plt \n",
    "    import matplotlib.pyplot as plt\n",
    "\n",
    "    fig, (ax1, ax2) = plt.subplots(1, 2, figsize=(10, 4))\n",
    "    ax1.hist(y, bins=20, alpha=0.7)\n",
    "    ax1.axvline(y.mean(), color='red', linestyle='--')\n",
    "    ax1.set_xlim(-5, 25)\n",
    "\n",
    "    ax2.hist(y_centered, bins=20, alpha=0.7)\n",
    "    ax2.axvline(y_centered.mean(), color='red', linestyle='--')\n",
    "    ax2.set_xlim(-5, 25)\n",
    "\n",
    "    plt.show()\n"
   ]
  },
  {
   "cell_type": "markdown",
   "id": "a4b70ce2",
   "metadata": {},
   "source": [
    "## Exercise 2, calculate the gradients\n",
    "\n",
    "Find the gradients for OLS and Ridge regression using the mean-squared error as cost/loss function."
   ]
  },
  {
   "cell_type": "code",
   "execution_count": 39,
   "id": "6176c680",
   "metadata": {},
   "outputs": [],
   "source": [
    "def gradient_ols(X, y, theta):\n",
    "    n = len(y)\n",
    "    return (1/n) * X.T @ (X @ theta - y)\n",
    "\n",
    "def gradient_ridge(X, y, theta, lam):\n",
    "    n = len(y)\n",
    "    return (1/n) * X.T @ (X @ theta - y) + 2 * lam * theta"
   ]
  },
  {
   "cell_type": "markdown",
   "id": "tz96l8l6f2",
   "metadata": {},
   "source": [
    "## Exercise 3, using the analytical formulae for OLS and Ridge regression to find the optimal parameters $\\boldsymbol{\\theta}$"
   ]
  },
  {
   "cell_type": "markdown",
   "id": "hqyitbkaehb",
   "metadata": {},
   "source": [
    "### 3a)\n",
    "\n",
    "Finalize, in the above code, the OLS and Ridge regression determination of the optimal parameters $\\boldsymbol{\\theta}$."
   ]
  },
  {
   "cell_type": "code",
   "execution_count": 40,
   "id": "dhecmef9lh",
   "metadata": {},
   "outputs": [
    {
     "name": "stdout",
     "output_type": "stream",
     "text": [
      "closed-form Ridge coefficients: [ 0.         -1.16566494  6.09212444]\n",
      "closed-form OLS coefficients: [ 0.         -1.1657815   6.09273365]\n"
     ]
    }
   ],
   "source": [
    "lam = 0.01\n",
    "\n",
    "n_features = X_norm.shape[1]\n",
    "I = np.eye(n_features)\n",
    "theta_closed_formRidge = np.linalg.pinv(X_norm.T @ X_norm + lam * I) @ X_norm.T @ y_centered\n",
    "theta_closed_formOLS = np.linalg.pinv(X_norm.T @ X_norm) @ X_norm.T @ y_centered\n",
    "\n",
    "print(\"closed-form Ridge coefficients:\", theta_closed_formRidge)\n",
    "print(\"closed-form OLS coefficients:\", theta_closed_formOLS)"
   ]
  },
  {
   "cell_type": "markdown",
   "id": "9bbmgdxe0j8",
   "metadata": {},
   "source": [
    "### 3b)\n",
    "\n",
    "Explore the results as function of different values of the hyperparameter $\\lambda$. See for example exercise 4 from week 36."
   ]
  },
  {
   "cell_type": "code",
   "execution_count": 41,
   "id": "xqsdqmaq49",
   "metadata": {},
   "outputs": [
    {
     "name": "stdout",
     "output_type": "stream",
     "text": [
      "Lambda=0.001: [ 0.         -1.16576985  6.09267272]\n",
      "Lambda=0.01: [ 0.         -1.16566494  6.09212444]\n",
      "Lambda=0.1: [ 0.         -1.16461689  6.086647  ]\n",
      "Lambda=1.0: [ 0.         -1.15423911  6.03240955]\n",
      "Lambda=10.0: [ 0.         -1.05980137  5.53884877]\n"
     ]
    },
    {
     "data": {
      "image/png": "[encoded data removed]",
      "text/plain": [
       "<Figure size 640x480 with 1 Axes>"
      ]
     },
     "metadata": {},
     "output_type": "display_data"
    }
   ],
   "source": [
    "lambdas = [0.001, 0.01, 0.1, 1.0, 10.0]\n",
    "ridge_coeffs = []\n",
    "\n",
    "for lam in lambdas:\n",
    "    theta_ridge = np.linalg.inv(X_norm.T @ X_norm + lam * I) @ X_norm.T @ y_centered\n",
    "    ridge_coeffs.append(theta_ridge)\n",
    "    print(f\"Lambda={lam}: {theta_ridge}\")\n",
    "\n",
    "import matplotlib.pyplot as plt\n",
    "ridge_coeffs = np.array(ridge_coeffs)\n",
    "for i in range(n_features):\n",
    "    plt.plot(lambdas, ridge_coeffs[:, i], marker='o', label=f'theta_{i}')\n",
    "plt.xscale('log')\n",
    "plt.xlabel('Lambda')\n",
    "plt.ylabel('Coefficient value')\n",
    "plt.legend()\n",
    "plt.show()"
   ]
  },
  {
   "cell_type": "markdown",
   "id": "ti0tbaxgi0i",
   "metadata": {},
   "source": [
    "## Exercise 4, Implementing the simplest form for gradient descent\n",
    "\n",
    "Alternatively, we can fit the ridge regression model using gradient descent. This is useful to visualize the iterative convergence and is necessary if $n$ and $p$ are so large that the closed-form might be too slow or memory-intensive. We derive the gradients from the cost functions defined above. Use the gradients of the Ridge and OLS cost functions with respect to the parameters $\\boldsymbol{\\theta}$ and set up your own gradient descent code for OLS and Ridge regression."
   ]
  },
  {
   "cell_type": "markdown",
   "id": "mumdgsa4cn",
   "metadata": {},
   "source": [
    "### 4a)\n",
    "\n",
    "Write first a gradient descent code for OLS only using the above template. Discuss the results as function of the learning rate parameters and the number of iterations"
   ]
  },
  {
   "cell_type": "code",
   "execution_count": 42,
   "id": "lfhbgi8ils",
   "metadata": {},
   "outputs": [
    {
     "name": "stdout",
     "output_type": "stream",
     "text": [
      "Gradient Descent OLS coefficients: [ 0.         -1.1657815   6.09273365]\n",
      "Closed-form OLS coefficients: [ 0.         -1.1657815   6.09273365]\n"
     ]
    }
   ],
   "source": [
    "eta = 0.1\n",
    "num_iters = 1000\n",
    "\n",
    "theta_ols = np.zeros(n_features)\n",
    "\n",
    "for t in range(num_iters):\n",
    "    grad_OLS = gradient_ols(X_norm, y_centered, theta_ols)\n",
    "    theta_ols = theta_ols - eta * grad_OLS\n",
    "\n",
    "print(\"Gradient Descent OLS coefficients:\", theta_ols)\n",
    "print(\"Closed-form OLS coefficients:\", theta_closed_formOLS)"
   ]
  },
  {
   "cell_type": "markdown",
   "id": "w4flilgn5b",
   "metadata": {},
   "source": [
    "### 4b)\n",
    "\n",
    "Write then a similar code for Ridge regression using the above template. Try to add a stopping parameter as function of the number iterations and the difference between the new and old $\\theta$ values. How would you define a stopping criterion?"
   ]
  },
  {
   "cell_type": "code",
   "execution_count": 43,
   "id": "fwvjxsuwi3",
   "metadata": {},
   "outputs": [
    {
     "name": "stdout",
     "output_type": "stream",
     "text": [
      "Converged after 125 iterations\n",
      "Gradient Descent Ridge coefficients: [ 0.         -1.14292139  5.97325966]\n",
      "Closed-form Ridge coefficients: [ 0.         -1.16566494  6.09212444]\n"
     ]
    }
   ],
   "source": [
    "eta = 0.1\n",
    "num_iters = 1000\n",
    "tol = 1e-6\n",
    "lam = 0.01\n",
    "\n",
    "theta_ridge = np.zeros(n_features)\n",
    "\n",
    "for t in range(num_iters):\n",
    "    theta_old = theta_ridge.copy()\n",
    "    grad_Ridge = gradient_ridge(X_norm, y_centered, theta_ridge, lam)\n",
    "    theta_ridge = theta_ridge - eta * grad_Ridge\n",
    "    \n",
    "    if np.linalg.norm(theta_ridge - theta_old) < tol:\n",
    "        print(f\"Converged after {t+1} iterations\")\n",
    "        break\n",
    "\n",
    "print(\"Gradient Descent Ridge coefficients:\", theta_ridge)\n",
    "print(\"Closed-form Ridge coefficients:\", theta_closed_formRidge)"
   ]
  },
  {
   "cell_type": "markdown",
   "id": "ch8ymhayli",
   "metadata": {},
   "source": [
    "**Stopping Criterion:**\n",
    "\n",
    "I would define a stopping criterion based on the change in parameters between iterations. When the L2 norm of the difference between consecutive parameter vectors falls below a tolerance threshold (e.g., `np.linalg.norm(theta_new - theta_old) < tol`), the algorithm has converged. This indicates that the parameters are no longer changing significantly, so we've found the minimum.\n",
    "\n",
    "As we can see from the prints, the closed forms and gradient descent are extremely close. "
   ]
  },
  {
   "cell_type": "markdown",
   "id": "5mzvoikznnc",
   "metadata": {},
   "source": [
    "## Exercise 5, Ridge regression and a new Synthetic Dataset\n",
    "\n",
    "We create a synthetic linear regression dataset with a sparse underlying relationship. This means we have many features but only a few of them actually contribute to the target. In our example, we'll use 10 features with only 3 non-zero weights in the true model."
   ]
  },
  {
   "cell_type": "code",
   "execution_count": 44,
   "id": "d9owwttwfee",
   "metadata": {},
   "outputs": [],
   "source": [
    "np.random.seed(0)\n",
    "\n",
    "n_samples = 100\n",
    "n_features = 10\n",
    "\n",
    "theta_true = np.array([5.0, -3.0, 0.0, 0.0, 0.0, 0.0, 2.0, 0.0, 0.0, 0.0])\n",
    "\n",
    "X_synth = np.random.randn(n_samples, n_features)\n",
    "noise = 0.5 * np.random.randn(n_samples)\n",
    "y_synth = X_synth @ theta_true + noise\n",
    "\n",
    "X_synth_norm = (X_synth - X_synth.mean(axis=0)) / X_synth.std(axis=0)\n",
    "y_synth_centered = y_synth - y_synth.mean()"
   ]
  },
  {
   "cell_type": "code",
   "execution_count": 45,
   "id": "d366jz8icrs",
   "metadata": {},
   "outputs": [
    {
     "name": "stdout",
     "output_type": "stream",
     "text": [
      "True coefficients: [ 5. -3.  0.  0.  0.  0.  2.  0.  0.  0.]\n",
      "OLS Analytical: [ 5.03241281e+00 -2.89258175e+00 -1.55189951e-02  1.51795012e-01\n",
      " -6.83299260e-02 -4.40147965e-02  1.76999871e+00  4.37643569e-03\n",
      "  4.52550260e-02 -4.97610000e-02]\n",
      "OLS Gradient Descent: [ 5.03052627e+00 -2.88962545e+00 -1.54631907e-02  1.53537540e-01\n",
      " -7.12034281e-02 -4.55513413e-02  1.76973981e+00  4.18611669e-03\n",
      "  4.31429304e-02 -4.94513872e-02]\n",
      "Ridge Analytical: [ 5.02716096e+00 -2.88896347e+00 -1.55169486e-02  1.52287662e-01\n",
      " -6.93302234e-02 -4.47229113e-02  1.76836298e+00  4.62139092e-03\n",
      "  4.41380481e-02 -4.96664608e-02]\n",
      "Ridge Gradient Descent: [ 4.17145961 -2.3219415  -0.01540697  0.20874048 -0.1946188  -0.13721978\n",
      "  1.49447228  0.04064028 -0.10520121 -0.03682043]\n"
     ]
    }
   ],
   "source": [
    "lam = 0.1\n",
    "I_synth = np.eye(n_features)\n",
    "\n",
    "theta_ols_analytical = np.linalg.pinv(X_synth_norm) @ y_synth_centered\n",
    "theta_ridge_analytical = np.linalg.inv(X_synth_norm.T @ X_synth_norm + lam * I_synth) @ X_synth_norm.T @ y_synth_centered\n",
    "\n",
    "eta = 0.01\n",
    "num_iters = 1000\n",
    "\n",
    "theta_ols_gd = np.zeros(n_features)\n",
    "for t in range(num_iters):\n",
    "    grad = gradient_ols(X_synth_norm, y_synth_centered, theta_ols_gd)\n",
    "    theta_ols_gd = theta_ols_gd - eta * grad\n",
    "\n",
    "theta_ridge_gd = np.zeros(n_features)\n",
    "for t in range(num_iters):\n",
    "    grad = gradient_ridge(X_synth_norm, y_synth_centered, theta_ridge_gd, lam)\n",
    "    theta_ridge_gd = theta_ridge_gd - eta * grad\n",
    "\n",
    "print(\"True coefficients:\", theta_true)\n",
    "print(\"OLS Analytical:\", theta_ols_analytical)\n",
    "print(\"OLS Gradient Descent:\", theta_ols_gd)\n",
    "print(\"Ridge Analytical:\", theta_ridge_analytical)\n",
    "print(\"Ridge Gradient Descent:\", theta_ridge_gd)"
   ]
  },
  {
   "cell_type": "markdown",
   "id": "sx57aps11d",
   "metadata": {},
   "source": [
    "**Analysis:**\n",
    "\n",
    "Ridge regression performs better than OLS for this sparse dataset. Ridge shrinks the coefficients toward zero, which helps when many features are irrelevant (have true coefficient = 0). The regularization penalty helps Ridge identify the important features (0, 1, and 6) while suppressing noise in the irrelevant features. OLS tends to overfit and assigns non-zero weights to irrelevant features due to noise."
   ]
  }
 ],
 "metadata": {
  "kernelspec": {
   "display_name": ".venv",
   "language": "python",
   "name": "python3"
  },
  "language_info": {
   "codemirror_mode": {
    "name": "ipython",
    "version": 3
   },
   "file_extension": ".py",
   "mimetype": "text/x-python",
   "name": "python",
   "nbconvert_exporter": "python",
   "pygments_lexer": "ipython3",
   "version": "3.12.0"
  }
 },
 "nbformat": 4,
 "nbformat_minor": 5
}
