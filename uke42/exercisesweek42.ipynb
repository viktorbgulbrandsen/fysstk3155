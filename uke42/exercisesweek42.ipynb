{
 "cells": [
  {
   "cell_type": "markdown",
   "metadata": {},
   "source": [
    "# Exercises week 42\n",
    "\n",
    "**October 13-17, 2025**\n",
    "\n",
    "Date: **Deadline is Friday October 17 at midnight**\n"
   ]
  },
  {
   "cell_type": "markdown",
   "metadata": {},
   "source": [
    "# Overarching aims of the exercises this week\n",
    "\n",
    "The aim of the exercises this week is to train the neural network you implemented last week.\n",
    "\n",
    "To train neural networks, we use gradient descent, since there is no analytical expression for the optimal parameters. This means you will need to compute the gradient of the cost function wrt. the network parameters. And then you will need to implement some gradient method.\n",
    "\n",
    "You will begin by computing gradients for a network with one layer, then two layers, then any number of layers. Keeping track of the shapes and doing things step by step will be very important this week.\n",
    "\n",
    "We recommend that you do the exercises this week by editing and running this notebook file, as it includes some checks along the way that you have implemented the neural network correctly, and running small parts of the code at a time will be important for understanding the methods. If you have trouble running a notebook, you can run this notebook in google colab instead(https://colab.research.google.com/drive/1FfvbN0XlhV-lATRPyGRTtTBnJr3zNuHL#offline=true&sandboxMode=true), though we recommend that you set up VSCode and your python environment to run code like this locally.\n",
    "\n",
    "First, some setup code that you will need.\n"
   ]
  },
  {
   "cell_type": "code",
   "execution_count": 116,
   "metadata": {},
   "outputs": [],
   "source": [
    "import autograd.numpy as np  # We need to use this numpy wrapper to make automatic differentiation work later\n",
    "from autograd import grad, elementwise_grad\n",
    "from sklearn import datasets\n",
    "import matplotlib.pyplot as plt\n",
    "from sklearn.metrics import accuracy_score\n",
    "\n",
    "\n",
    "# Defining some activation functions\n",
    "def ReLU(z):\n",
    "    return np.where(z > 0, z, 0)\n",
    "\n",
    "\n",
    "# Derivative of the ReLU function\n",
    "def ReLU_der(z):\n",
    "    return np.where(z > 0, 1, 0)\n",
    "\n",
    "\n",
    "def sigmoid(z):\n",
    "    return 1 / (1 + np.exp(-z))\n",
    "\n",
    "\n",
    "def mse(predict, target):\n",
    "    return np.mean((predict - target) ** 2)"
   ]
  },
  {
   "cell_type": "markdown",
   "metadata": {},
   "source": [
    "# Exercise 1 - Understand the feed forward pass\n",
    "\n",
    "**a)** Complete last weeks' exercises if you haven't already (recommended).\n"
   ]
  },
  {
   "cell_type": "markdown",
   "metadata": {},
   "source": [
    "# Exercise 2 - Gradient with one layer using autograd\n",
    "\n",
    "For the first few exercises, we will not use batched inputs. Only a single input vector is passed through the layer at a time.\n",
    "\n",
    "In this exercise you will compute the gradient of a single layer. You only need to change the code in the cells right below an exercise, the rest works out of the box. Feel free to make changes and see how stuff works though!\n"
   ]
  },
  {
   "cell_type": "markdown",
   "metadata": {},
   "source": [
    "**a)** If the weights and bias of a layer has shapes (10, 4) and (10), what will the shapes of the gradients of the cost function wrt. these weights and this bias be?\n"
   ]
  },
  {
   "cell_type": "markdown",
   "metadata": {},
   "source": [
    "**b)** Complete the feed_forward_one_layer function. It should use the sigmoid activation function. Also define the weigth and bias with the correct shapes.\n"
   ]
  },
  {
   "cell_type": "code",
   "execution_count": 117,
   "metadata": {},
   "outputs": [],
   "source": [
    "np.random.seed(314)\n",
    "import autograd\n",
    "def feed_forward_one_layer(W, b, x):\n",
    "    z = W @ x + b\n",
    "    a = sigmoid(z)\n",
    "    return a\n",
    "\n",
    "\n",
    "def cost_one_layer(W, b, x, target):\n",
    "    predict = feed_forward_one_layer(W, b, x)\n",
    "    return mse(predict, target)\n",
    "\n",
    "x = np.random.rand(2)\n",
    "target = np.random.rand(3)\n",
    "W = np.random.randn(3,2)\n",
    "b = np.random.randn(3)\n",
    "prediction = feed_forward_one_layer(W,b,x)\n",
    "\n",
    "def prints():\n",
    "    print(f\"x = {x}\")\n",
    "    print(\"\\n\")\n",
    "    print(f\"target = {target}\")\n",
    "    print(\"\\n\")\n",
    "\n",
    "    print(f\"W = {W}\")\n",
    "    print(\"\\n\")\n",
    "\n",
    "    print(f\"b = {b}\")\n",
    "    print(\"\\n\")\n",
    "\n",
    "    print(f\"prediction = {prediction}\")\n"
   ]
  },
  {
   "cell_type": "markdown",
   "metadata": {},
   "source": [
    "**c)** Compute the gradient of the cost function wrt. the weigth and bias by running the cell below. You will not need to change anything, just make sure it runs by defining things correctly in the cell above. This code uses the autograd package which uses backprogagation to compute the gradient!\n"
   ]
  },
  {
   "cell_type": "code",
   "execution_count": 118,
   "metadata": {},
   "outputs": [
    {
     "name": "stdout",
     "output_type": "stream",
     "text": [
      "[[ 0.0487215   0.03127437]\n",
      " [-0.04837692 -0.03105318]\n",
      " [-0.01064921 -0.00683573]]\n",
      "[ 0.05313874 -0.05276291 -0.01161469]\n"
     ]
    }
   ],
   "source": [
    "autograd_one_layer = autograd.grad(cost_one_layer, [0, 1])\n",
    "W_g, b_g = autograd_one_layer(W, b, x, target)\n",
    "print(W_g)\n",
    "print(b_g)\n",
    "\n",
    "\n"
   ]
  },
  {
   "cell_type": "markdown",
   "metadata": {},
   "source": [
    "# Exercise 3 - Gradient with one layer writing backpropagation by hand\n",
    "\n",
    "Before you use the gradient you found using autograd, you will have to find the gradient \"manually\", to better understand how the backpropagation computation works. To do backpropagation \"manually\", you will need to write out expressions for many derivatives along the computation.\n"
   ]
  },
  {
   "cell_type": "markdown",
   "metadata": {},
   "source": [
    "We want to find the gradient of the cost function wrt. the weight and bias. This is quite hard to do directly, so we instead use the chain rule to combine multiple derivatives which are easier to compute.\n",
    "\n",
    "$$\n",
    "\\frac{dC}{dW} = \\frac{dC}{da}\\frac{da}{dz}\\frac{dz}{dW}\n",
    "$$\n",
    "\n",
    "$$\n",
    "\\frac{dC}{db} = \\frac{dC}{da}\\frac{da}{dz}\\frac{dz}{db}\n",
    "$$\n"
   ]
  },
  {
   "cell_type": "markdown",
   "metadata": {},
   "source": [
    "**a)** Which intermediary results can be reused between the two expressions?\n",
    "\n",
    "We see that \n",
    "\n",
    "$$\n",
    "\\frac{dC}{da} \\frac{da}{dz}\n",
    "$$\n",
    "\n",
    "occur in both expression. \n"
   ]
  },
  {
   "cell_type": "markdown",
   "metadata": {},
   "source": [
    "**b)** What is the derivative of the cost wrt. the final activation? You can use the autograd calculation to make sure you get the correct result. Remember that we compute the mean in mse.\n",
    "\n",
    "The MSE cost function is:\n",
    "$$C = \\frac{1}{n}\\sum_{i=1}^{n}(a_i - y_i)^2$$\n",
    "\n",
    "Taking the derivative with respect to the activation $a$:\n",
    "\n",
    "$$\\frac{dC}{da} = \\frac{2(a - y)}{n}$$\n",
    "\n"
   ]
  },
  {
   "cell_type": "code",
   "execution_count": 119,
   "metadata": {},
   "outputs": [
    {
     "name": "stdout",
     "output_type": "stream",
     "text": [
      "[ 0.22071046 -0.21208637 -0.07439771]\n",
      "[ 0.22071046 -0.21208637 -0.07439771]\n"
     ]
    }
   ],
   "source": [
    "z = W @ x + b\n",
    "a = sigmoid(z)\n",
    "\n",
    "predict = a\n",
    "\n",
    "\n",
    "def mse_der(predict, target):\n",
    "    return 2 * (predict - target) / predict.size\n",
    "\n",
    "\n",
    "\n",
    "print(mse_der(predict, target))\n",
    "\n",
    "cost_autograd = grad(mse, 0)\n",
    "print(cost_autograd(predict, target))"
   ]
  },
  {
   "cell_type": "markdown",
   "metadata": {},
   "source": [
    "**c)** What is the expression for the derivative of the sigmoid activation function? You can use the autograd calculation to make sure you get the correct result.\n",
    "\n",
    "The sigmoid function is:\n",
    "$$a = \\sigma(z) = \\frac{1}{1 + e^{-z}}$$\n",
    "\n",
    "The derivative of the sigmoid with respect to $z$ is:\n",
    "\n",
    "$$\\frac{da}{dz} = \\sigma(z)(1 - \\sigma(z)) = a(1 - a)$$\n",
    "\n"
   ]
  },
  {
   "cell_type": "code",
   "execution_count": 120,
   "metadata": {},
   "outputs": [
    {
     "name": "stdout",
     "output_type": "stream",
     "text": [
      "[0.24076221 0.2487803  0.15611628]\n",
      "[0.24076221 0.2487803  0.15611628]\n"
     ]
    }
   ],
   "source": [
    "def sigmoid_der(z):\n",
    "    a = sigmoid(z)\n",
    "    return a * (1 - a)\n",
    "\n",
    "\n",
    "print(sigmoid_der(z))\n",
    "\n",
    "sigmoid_autograd = elementwise_grad(sigmoid, 0)\n",
    "print(sigmoid_autograd(z))"
   ]
  },
  {
   "cell_type": "markdown",
   "metadata": {},
   "source": [
    "**d)** Using the two derivatives you just computed, compute this intermetidary gradient you will use later:\n",
    "\n",
    "$$\n",
    "\\frac{dC}{dz} = \\frac{dC}{da}\\frac{da}{dz}\n",
    "$$\n",
    "\n",
    "So we have $$\\frac{da}{dz} = \\sigma(z)(1 - \\sigma(z)) = a(1 - a)$$ and $$\\frac{dC}{da} = \\frac{2(a - y)}{n}$$\n",
    "\n",
    "Multiplying these together:\n",
    "\n",
    "$$\n",
    "\\frac{dC}{dz} = \\frac{dC}{da} \\cdot \\frac{da}{dz} = \\frac{2(a - y)}{n} \\cdot a(1 - a) = \\frac{2a(1-a)(a - y)}{n}\n",
    "$$\n",
    "\n"
   ]
  },
  {
   "cell_type": "code",
   "execution_count": 121,
   "metadata": {},
   "outputs": [],
   "source": [
    "dC_da = mse_der(predict, target)\n",
    "dC_dz = dC_da * sigmoid_der(z)\n"
   ]
  },
  {
   "cell_type": "markdown",
   "metadata": {},
   "source": [
    "**e)** What is the derivative of the intermediary z wrt. the weight and bias? What should the shapes be? The one for the weights is a little tricky, it can be easier to play around in the next exercise first. You can also try computing it with autograd to get a hint.\n",
    "\n",
    "So: \n",
    "$$z = Wx + b$$\n",
    "\n",
    "where $W$ is $3 \\times 2$, $x$ is $2 \\times 1$, $b$ is $3 \\times 1$,  $z$ is $3 \\times 1$.\n",
    "\n",
    "We have:\n",
    "$$z = \\begin{bmatrix} z_1 \\\\ z_2 \\\\ z_3 \\end{bmatrix} = \\begin{bmatrix} W_{11} & W_{12} \\\\ W_{21} & W_{22} \\\\ W_{31} & W_{32} \\end{bmatrix} \\begin{bmatrix} x_1 \\\\ x_2 \\end{bmatrix} + \\begin{bmatrix} b_1 \\\\ b_2 \\\\ b_3 \\end{bmatrix}$$\n",
    "\n",
    "\n",
    "Expanding: $z_1 = W_{11}x_1 + W_{12}x_2 + b_1$, $z_2 = W_{21}x_1 + W_{22}x_2 + b_2$, $z_3 = W_{31}x_1 + W_{32}x_2 + b_3$\n",
    "\n",
    "**Weights W**\n",
    "\n",
    "Taking the derivative of $z_i$ with respect to each element of $W$\n",
    "\n",
    "$$\\frac{dz_1}{dW_{11}} = x_1, \\quad \\frac{dz_1}{dW_{12}} = x_2$$\n",
    "$$\\frac{dz_2}{dW_{21}} = x_1, \\quad \\frac{dz_2}{dW_{22}} = x_2$$\n",
    "$$\\frac{dz_3}{dW_{31}} = x_1, \\quad \\frac{dz_3}{dW_{32}} = x_2$$\n",
    "\n",
    "This gives us the Jacobian:\n",
    "$$\\frac{dz}{dW} = x^{\\top} = \\begin{bmatrix} x_1 & x_2 \\end{bmatrix}$$\n",
    "\n",
    "And we can relate this to the derivative over the cost by the chain rule, i.e \n",
    "\n",
    "$$\\frac{dC}{dW} = \\frac{dC}{dz} \\frac{dz}{dW}$$\n",
    "\n",
    "**Bias $b$**\n",
    "\n",
    "Taking derivatives:\n",
    "\n",
    "$$\\frac{dz_1}{db_1} = 1, \\quad \\frac{dz_1}{db_2} = 0, \\quad \\frac{dz_1}{db_3} = 0$$\n",
    "$$\\frac{dz_2}{db_1} = 0, \\quad \\frac{dz_2}{db_2} = 1, \\quad \\frac{dz_2}{db_3} = 0$$\n",
    "$$\\frac{dz_3}{db_1} = 0, \\quad \\frac{dz_3}{db_2} = 0, \\quad \\frac{dz_3}{db_3} = 1$$\n",
    "\n",
    "This gives us:\n",
    "$$\\frac{dz}{db} = I = \\begin{bmatrix} 1 & 0 & 0 \\\\ 0 & 1 & 0 \\\\ 0 & 0 & 1 \\end{bmatrix}$$\n",
    "\n",
    "\n",
    "And we can relate this to the derivative over the cost by the chain rule, i.e \n",
    "\n",
    "$$\\frac{dC}{db} = \\frac{dC}{dz} \\frac{dz}{db} = \\frac{dC}{dz} I_3$$\n",
    "\n",
    "and we know that for any vector $v$, $I \\cdot v = v$, hence \n",
    "\n",
    "$$\\frac{dC}{db} = \\frac{dC}{dz}$$\n",
    "\n",
    "which is a $3 \\times 1$ vector, matching the shape of $b$.\n",
    "\n",
    "\n",
    "\n"
   ]
  },
  {
   "cell_type": "markdown",
   "metadata": {},
   "source": [
    "**f)** Now combine the expressions you have worked with so far to compute the gradients! Note that you always need to do a feed forward pass while saving the zs and as before you do backpropagation, as they are used in the derivative expressions\n"
   ]
  },
  {
   "cell_type": "code",
   "execution_count": 122,
   "metadata": {},
   "outputs": [],
   "source": [
    "z = W @ x + b\n",
    "a = sigmoid(z)\n",
    "predict = a"
   ]
  },
  {
   "cell_type": "code",
   "execution_count": 123,
   "metadata": {},
   "outputs": [
    {
     "name": "stdout",
     "output_type": "stream",
     "text": [
      "[[ 0.0487215   0.03127437]\n",
      " [-0.04837692 -0.03105318]\n",
      " [-0.01064921 -0.00683573]] [ 0.05313874 -0.05276291 -0.01161469]\n"
     ]
    }
   ],
   "source": [
    "dC_da = mse_der(predict, target)\n",
    "dC_dz = dC_da * sigmoid_der(z)\n",
    "dC_dW = np.outer(dC_dz, x)\n",
    "dC_db = dC_dz\n",
    "\n",
    "print(dC_dW, dC_db)\n"
   ]
  },
  {
   "cell_type": "markdown",
   "metadata": {},
   "source": [
    "You should get the same results as with autograd.\n"
   ]
  },
  {
   "cell_type": "code",
   "execution_count": 124,
   "metadata": {},
   "outputs": [
    {
     "name": "stdout",
     "output_type": "stream",
     "text": [
      "[[ 0.0487215   0.03127437]\n",
      " [-0.04837692 -0.03105318]\n",
      " [-0.01064921 -0.00683573]] [ 0.05313874 -0.05276291 -0.01161469]\n"
     ]
    }
   ],
   "source": [
    "W_g, b_g = autograd_one_layer(W, b, x, target)\n",
    "print(W_g, b_g)"
   ]
  },
  {
   "cell_type": "markdown",
   "metadata": {},
   "source": [
    "# Exercise 4 - Gradient with two layers writing backpropagation by hand\n"
   ]
  },
  {
   "cell_type": "markdown",
   "metadata": {},
   "source": [
    "Now that you have implemented backpropagation for one layer, you have found most of the expressions you will need for more layers. Let's move up to two layers.\n"
   ]
  },
  {
   "cell_type": "code",
   "execution_count": 125,
   "metadata": {},
   "outputs": [],
   "source": [
    "x = np.random.rand(2)\n",
    "target = np.random.rand(4)\n",
    "\n",
    "W1 = np.random.rand(3, 2)\n",
    "b1 = np.random.rand(3)\n",
    "\n",
    "W2 = np.random.rand(4, 3)\n",
    "b2 = np.random.rand(4)\n",
    "\n",
    "layers = [(W1, b1), (W2, b2)]"
   ]
  },
  {
   "cell_type": "code",
   "execution_count": 126,
   "metadata": {},
   "outputs": [],
   "source": [
    "z1 = W1 @ x + b1\n",
    "a1 = sigmoid(z1)\n",
    "z2 = W2 @ a1 + b2\n",
    "a2 = sigmoid(z2)"
   ]
  },
  {
   "cell_type": "markdown",
   "metadata": {},
   "source": [
    "We begin by computing the gradients of the last layer, as the gradients must be propagated backwards from the end.\n",
    "\n",
    "**a)** Compute the gradients of the last layer, just like you did the single layer in the previous exercise.\n"
   ]
  },
  {
   "cell_type": "code",
   "execution_count": 127,
   "metadata": {},
   "outputs": [],
   "source": [
    "dC_da2 = mse_der(a2, target)\n",
    "dC_dz2 = dC_da2 * sigmoid_der(z2)\n",
    "dC_dW2 = np.outer(dC_dz2, a1)\n",
    "dC_db2 = dC_dz2\n"
   ]
  },
  {
   "cell_type": "markdown",
   "metadata": {},
   "source": [
    "To find the derivative of the cost wrt. the activation of the first layer, we need a new expression, the one furthest to the right in the following.\n",
    "\n",
    "$$\n",
    "\\frac{dC}{da_1} = \\frac{dC}{dz_2}\\frac{dz_2}{da_1}\n",
    "$$\n",
    "\n",
    "**b)** What is the derivative of the second layer intermetiate wrt. the first layer activation? (First recall how you compute $z_2$)\n",
    "\n",
    "$$\n",
    "\\frac{dz_2}{da_1}\n",
    "$$\n",
    "\n",
    "Since\n",
    "$$z_2 = W_2 a_1 + b_2$$\n",
    "\n",
    "we take the derivative respect to $a_1$ over element $z_{2,i} = \\sum_j W_{2,ij} a_{1,j} + b_{2,i}$ giving\n",
    "\n",
    "$$\\frac{dz_{2,i}}{da_{1,j}} = W_{2,ij}$$\n",
    "\n",
    "Or matrix: \n",
    "\n",
    "$$\\frac{dz_2}{da_1} = W_2$$\n"
   ]
  },
  {
   "cell_type": "markdown",
   "metadata": {},
   "source": [
    "**c)** Use this expression, together with expressions which are equivelent to ones for the last layer to compute all the derivatives of the first layer.\n",
    "\n",
    "$$\n",
    "\\frac{dC}{dW_1} = \\frac{dC}{da_1}\\frac{da_1}{dz_1}\\frac{dz_1}{dW_1}\n",
    "$$\n",
    "\n",
    "$$\n",
    "\\frac{dC}{db_1} = \\frac{dC}{da_1}\\frac{da_1}{dz_1}\\frac{dz_1}{db_1}\n",
    "$$\n",
    "\n",
    "We already know from part (b) that:\n",
    "$$\\frac{dC}{da_1} = \\frac{dC}{dz_2}\\frac{dz_2}{da_1} = \\frac{dC}{dz_2} W_2 = W_2^T \\frac{dC}{dz_2}$$\n",
    "\n",
    "From the activation function (same as layer 2):\n",
    "$$\\frac{da_1}{dz_1} = \\sigma'(z_1) = a_1(1 - a_1)$$\n",
    "\n",
    "and from the linear transformation $z_1 = W_1x + b_1$ same as before: \n",
    "\n",
    "$$\\frac{dz_1}{dW_1} = x^T$$\n",
    "$$\\frac{dz_1}{db_1} = I$$\n",
    "\n",
    "\n",
    "$$\\frac{dC}{dz_1} = \\frac{dC}{da_1}\\frac{da_1}{dz_1} = \\left(W_2^T \\frac{dC}{dz_2}\\right) \\sigma'(z_1)$$\n",
    "\n",
    "where the multiplication is element-wise since as the vectors have the same dimension.\n",
    "\n",
    "Hence\n",
    "\n",
    "$$\\frac{dC}{dW_1} = \\frac{dC}{dz_1} x^T$$\n",
    "\n",
    "$$\\frac{dC}{db_1} = \\frac{dC}{dz_1}$$"
   ]
  },
  {
   "cell_type": "code",
   "execution_count": 128,
   "metadata": {},
   "outputs": [],
   "source": [
    "dC_da1 = W2.T @ dC_dz2\n",
    "dC_dz1 = dC_da1 * sigmoid_der(z1)\n",
    "dC_dW1 = np.outer(dC_dz1, x)\n",
    "dC_db1 = dC_dz1\n"
   ]
  },
  {
   "cell_type": "code",
   "execution_count": 129,
   "metadata": {},
   "outputs": [
    {
     "name": "stdout",
     "output_type": "stream",
     "text": [
      "[[0.00113143 0.00028436]\n",
      " [0.00150824 0.00037906]\n",
      " [0.00212856 0.00053496]] [0.00406726 0.00542184 0.00765174]\n",
      "[[0.01028658 0.00774165 0.00780708]\n",
      " [0.00811599 0.00610807 0.00615969]\n",
      " [0.01307522 0.00984038 0.00992354]\n",
      " [0.00810123 0.00609697 0.00614849]] [0.0138624  0.01093727 0.01762043 0.01091738]\n"
     ]
    }
   ],
   "source": [
    "print(dC_dW1, dC_db1)\n",
    "print(dC_dW2, dC_db2)"
   ]
  },
  {
   "cell_type": "markdown",
   "metadata": {},
   "source": [
    "**d)** Make sure you got the same gradient as the following code which uses autograd to do backpropagation.\n"
   ]
  },
  {
   "cell_type": "code",
   "execution_count": 130,
   "metadata": {},
   "outputs": [],
   "source": [
    "def feed_forward_two_layers(layers, x):\n",
    "    W1, b1 = layers[0]\n",
    "    z1 = W1 @ x + b1\n",
    "    a1 = sigmoid(z1)\n",
    "\n",
    "    W2, b2 = layers[1]\n",
    "    z2 = W2 @ a1 + b2\n",
    "    a2 = sigmoid(z2)\n",
    "\n",
    "    return a2"
   ]
  },
  {
   "cell_type": "code",
   "execution_count": 131,
   "metadata": {},
   "outputs": [
    {
     "data": {
      "text/plain": [
       "[(array([[0.00113143, 0.00028436],\n",
       "         [0.00150824, 0.00037906],\n",
       "         [0.00212856, 0.00053496]]),\n",
       "  array([0.00406726, 0.00542184, 0.00765174])),\n",
       " (array([[0.01028658, 0.00774165, 0.00780708],\n",
       "         [0.00811599, 0.00610807, 0.00615969],\n",
       "         [0.01307522, 0.00984038, 0.00992354],\n",
       "         [0.00810123, 0.00609697, 0.00614849]]),\n",
       "  array([0.0138624 , 0.01093727, 0.01762043, 0.01091738]))]"
      ]
     },
     "execution_count": 131,
     "metadata": {},
     "output_type": "execute_result"
    }
   ],
   "source": [
    "def cost_two_layers(layers, x, target):\n",
    "    predict = feed_forward_two_layers(layers, x)\n",
    "    return mse(predict, target)\n",
    "\n",
    "\n",
    "grad_two_layers = grad(cost_two_layers, 0)\n",
    "grad_two_layers(layers, x, target)"
   ]
  },
  {
   "cell_type": "markdown",
   "metadata": {},
   "source": [
    "**e)** How would you use the gradient from this layer to compute the gradient of an even earlier layer? Would the expressions be any different?\n"
   ]
  },
  {
   "cell_type": "markdown",
   "metadata": {},
   "source": [
    "# Exercise 5 - Gradient with any number of layers writing backpropagation by hand\n"
   ]
  },
  {
   "cell_type": "markdown",
   "metadata": {},
   "source": [
    "Well done on getting this far! Now it's time to compute the gradient with any number of layers.\n",
    "\n",
    "First, some code from the general neural network code from last week. Note that we are still sending in one input vector at a time. We will change it to use batched inputs later.\n"
   ]
  },
  {
   "cell_type": "code",
   "execution_count": 132,
   "metadata": {},
   "outputs": [],
   "source": [
    "def create_layers(network_input_size, layer_output_sizes):\n",
    "    layers = []\n",
    "\n",
    "    i_size = network_input_size\n",
    "    for layer_output_size in layer_output_sizes:\n",
    "        W = np.random.randn(layer_output_size, i_size)\n",
    "        b = np.random.randn(layer_output_size)\n",
    "        layers.append((W, b))\n",
    "\n",
    "        i_size = layer_output_size\n",
    "    return layers\n",
    "\n",
    "\n",
    "def feed_forward(input, layers, activation_funcs):\n",
    "    a = input\n",
    "    for (W, b), activation_func in zip(layers, activation_funcs):\n",
    "        z = W @ a + b\n",
    "        a = activation_func(z)\n",
    "    return a\n",
    "\n",
    "\n",
    "def cost(layers, input, activation_funcs, target):\n",
    "    predict = feed_forward(input, layers, activation_funcs)\n",
    "    return mse(predict, target)"
   ]
  },
  {
   "cell_type": "markdown",
   "metadata": {},
   "source": [
    "You might have already have noticed a very important detail in backpropagation: You need the values from the forward pass to compute all the gradients! The feed forward method above is great for efficiency and for using autograd, as it only cares about computing the final output, but now we need to also save the results along the way.\n",
    "\n",
    "Here is a function which does that for you.\n"
   ]
  },
  {
   "cell_type": "code",
   "execution_count": 133,
   "metadata": {},
   "outputs": [],
   "source": [
    "def feed_forward_saver(input, layers, activation_funcs):\n",
    "    layer_inputs = []\n",
    "    zs = []\n",
    "    a = input\n",
    "    for (W, b), activation_func in zip(layers, activation_funcs):\n",
    "        layer_inputs.append(a)\n",
    "        z = W @ a + b\n",
    "        a = activation_func(z)\n",
    "\n",
    "        zs.append(z)\n",
    "\n",
    "    return layer_inputs, zs, a"
   ]
  },
  {
   "cell_type": "markdown",
   "metadata": {},
   "source": [
    "**a)** Now, complete the backpropagation function so that it returns the gradient of the cost function wrt. all the weigths and biases. Use the autograd calculation below to make sure you get the correct answer.\n"
   ]
  },
  {
   "cell_type": "code",
   "execution_count": 134,
   "metadata": {},
   "outputs": [],
   "source": [
    "def backpropagation(\n",
    "    input, layers, activation_funcs, target, activation_ders, cost_der=mse_der\n",
    "):\n",
    "    layer_inputs, zs, predict = feed_forward_saver(input, layers, activation_funcs)\n",
    "\n",
    "    layer_grads = [() for layer in layers]\n",
    "\n",
    "    # We loop over the layers, from the last to the first\n",
    "    for i in reversed(range(len(layers))):\n",
    "        layer_input, z, activation_der = layer_inputs[i], zs[i], activation_ders[i]\n",
    "\n",
    "        if i == len(layers) - 1:\n",
    "            # For last layer we use cost derivative as dC_da(L) can be computed directly\n",
    "            dC_da = cost_der(predict, target)\n",
    "        else:\n",
    "            # For other layers we build on previous z derivative, as dC_da(i) = dC_dz(i+1) * dz(i+1)_da(i)\n",
    "            (W, b) = layers[i + 1]\n",
    "            dC_da = W.T @ dC_dz\n",
    "\n",
    "        dC_dz = dC_da * activation_der(z)\n",
    "        dC_dW = np.outer(dC_dz, layer_input)\n",
    "        dC_db = dC_dz\n",
    "\n",
    "\n",
    "        layer_grads[i] = (dC_dW, dC_db)\n",
    "\n",
    "    return layer_grads"
   ]
  },
  {
   "cell_type": "code",
   "execution_count": 135,
   "metadata": {},
   "outputs": [],
   "source": [
    "network_input_size = 2\n",
    "layer_output_sizes = [3, 4]\n",
    "activation_funcs = [sigmoid, ReLU]\n",
    "activation_ders = [sigmoid_der, ReLU_der]\n",
    "\n",
    "layers = create_layers(network_input_size, layer_output_sizes)\n",
    "\n",
    "x = np.random.rand(network_input_size)\n",
    "target = np.random.rand(4)"
   ]
  },
  {
   "cell_type": "code",
   "execution_count": 136,
   "metadata": {},
   "outputs": [
    {
     "name": "stdout",
     "output_type": "stream",
     "text": [
      "[(array([[-0.03411362, -0.10878774],\n",
      "       [ 0.0097726 ,  0.03116463],\n",
      "       [-0.00907399, -0.02893678]]), array([-0.11125824,  0.03187236, -0.02959392])), (array([[-0.04954165, -0.19894415, -0.26398387],\n",
      "       [-0.        , -0.        , -0.        ],\n",
      "       [ 0.00765355,  0.03073431,  0.04078211],\n",
      "       [ 0.03266426,  0.13116972,  0.17405231]]), array([-0.42867566, -0.        ,  0.06622488,  0.28263845]))]\n"
     ]
    }
   ],
   "source": [
    "layer_grads = backpropagation(x, layers, activation_funcs, target, activation_ders)\n",
    "print(layer_grads)"
   ]
  },
  {
   "cell_type": "code",
   "execution_count": 137,
   "metadata": {},
   "outputs": [
    {
     "data": {
      "text/plain": [
       "[(array([[-0.03411362, -0.10878774],\n",
       "         [ 0.0097726 ,  0.03116463],\n",
       "         [-0.00907399, -0.02893678]]),\n",
       "  array([-0.11125824,  0.03187236, -0.02959392])),\n",
       " (array([[-0.04954165, -0.19894415, -0.26398387],\n",
       "         [ 0.        ,  0.        ,  0.        ],\n",
       "         [ 0.00765355,  0.03073431,  0.04078211],\n",
       "         [ 0.03266426,  0.13116972,  0.17405231]]),\n",
       "  array([-0.42867566,  0.        ,  0.06622488,  0.28263845]))]"
      ]
     },
     "execution_count": 137,
     "metadata": {},
     "output_type": "execute_result"
    }
   ],
   "source": [
    "cost_grad = grad(cost, 0)\n",
    "cost_grad(layers, x, [sigmoid, ReLU], target)"
   ]
  },
  {
   "cell_type": "markdown",
   "metadata": {},
   "source": [
    "# Exercise 6 - Batched inputs\n",
    "\n",
    "Make new versions of all the functions in exercise 5 which now take batched inputs instead. See last weeks exercise 5 for details on how to batch inputs to neural networks. You will also need to update the backpropogation function.\n"
   ]
  },
  {
   "cell_type": "code",
   "execution_count": 138,
   "metadata": {},
   "outputs": [],
   "source": [
    "def create_layers_batch(network_input_size, layer_output_sizes):\n",
    "    layers = []\n",
    "    i_size = network_input_size\n",
    "    for layer_output_size in layer_output_sizes:\n",
    "        W = np.random.randn(i_size, layer_output_size)\n",
    "        b = np.random.randn(layer_output_size)\n",
    "        layers.append((W, b))\n",
    "        i_size = layer_output_size\n",
    "    return layers\n"
   ]
  },
  {
   "cell_type": "code",
   "execution_count": 139,
   "metadata": {},
   "outputs": [],
   "source": [
    "def feed_forward_batch(inputs, layers, activation_funcs):\n",
    "    a = inputs\n",
    "    for (W, b), activation_func in zip(layers, activation_funcs):\n",
    "        # (n_samples, n_features) @ (n_features, n_outputs)\n",
    "        z = a @ W + b\n",
    "        a = activation_func(z)\n",
    "    return a\n"
   ]
  },
  {
   "cell_type": "code",
   "execution_count": 140,
   "metadata": {},
   "outputs": [],
   "source": [
    "def cost_batch(layers, inputs, activation_funcs, targets):\n",
    "    predictions = feed_forward_batch(inputs, layers, activation_funcs)\n",
    "    return mse(predictions, targets)\n"
   ]
  },
  {
   "cell_type": "code",
   "execution_count": 141,
   "metadata": {},
   "outputs": [],
   "source": [
    "def feed_forward_saver_batch(inputs, layers, activation_funcs):\n",
    "    layer_inputs = []\n",
    "    zs = []\n",
    "    a = inputs\n",
    "    for (W, b), activation_func in zip(layers, activation_funcs):\n",
    "        layer_inputs.append(a)\n",
    "        z = a @ W + b\n",
    "        a = activation_func(z)\n",
    "        zs.append(z)\n",
    "    return layer_inputs, zs, a\n"
   ]
  },
  {
   "cell_type": "code",
   "execution_count": 142,
   "metadata": {},
   "outputs": [],
   "source": [
    "def backpropagation_batch(\n",
    "    inputs, layers, activation_funcs, targets, activation_ders, cost_der=mse_der\n",
    "):\n",
    "    layer_inputs, zs, predictions = feed_forward_saver_batch(inputs, layers, activation_funcs)\n",
    "    layer_grads = [() for _ in layers]\n",
    "    n_samples = inputs.shape[0]\n",
    "\n",
    "    for i in reversed(range(len(layers))):\n",
    "        layer_input, z, activation_der = layer_inputs[i], zs[i], activation_ders[i]\n",
    "\n",
    "        if i == len(layers) - 1:\n",
    "            dC_da = cost_der(predictions, targets)\n",
    "        else:\n",
    "            W, _ = layers[i + 1]\n",
    "            dC_da = dC_dz @ W.T\n",
    "\n",
    "        dC_dz = dC_da * activation_der(z)\n",
    "        dC_dW = layer_input.T @ dC_dz / n_samples\n",
    "        dC_db = np.mean(dC_dz, axis=0)\n",
    "        layer_grads[i] = (dC_dW, dC_db)\n",
    "\n",
    "    return layer_grads\n"
   ]
  },
  {
   "cell_type": "code",
   "execution_count": 143,
   "metadata": {},
   "outputs": [
    {
     "name": "stdout",
     "output_type": "stream",
     "text": [
      "manual gradients:\n",
      "[(array([[ 0.00705068,  0.01351109, -0.00382829],\n",
      "       [ 0.00723994,  0.01273161, -0.00414871]]), array([ 0.0099883 ,  0.02028504, -0.0053293 ])), (array([[0.        , 0.0142052 , 0.        , 0.00380141],\n",
      "       [0.        , 0.02456479, 0.        , 0.00773538],\n",
      "       [0.        , 0.01412752, 0.        , 0.00443608]]), array([0.        , 0.04589897, 0.        , 0.01482161]))]\n",
      "\n",
      "autograd gradients:\n",
      "[(array([[ 0.07050681,  0.13511092, -0.03828287],\n",
      "       [ 0.07239938,  0.12731607, -0.0414871 ]]), array([ 0.09988302,  0.20285044, -0.05329297])), (array([[0.        , 0.14205205, 0.        , 0.03801415],\n",
      "       [0.        , 0.24564794, 0.        , 0.07735377],\n",
      "       [0.        , 0.14127524, 0.        , 0.04436078]]), array([0.        , 0.45898975, 0.        , 0.1482161 ]))]\n"
     ]
    }
   ],
   "source": [
    "import autograd.numpy as np\n",
    "from autograd import grad\n",
    "\n",
    "network_input_size = 2\n",
    "layer_output_sizes = [3, 4]\n",
    "activation_funcs = [sigmoid, ReLU]\n",
    "activation_ders  = [sigmoid_der, ReLU_der]\n",
    "\n",
    "layers = create_layers_batch(network_input_size, layer_output_sizes)\n",
    "\n",
    "n_samples = 10\n",
    "inputs = np.random.rand(n_samples, network_input_size)\n",
    "targets = np.random.rand(n_samples, 4)\n",
    "\n",
    "# manual gradients\n",
    "manual_grads = backpropagation_batch(inputs, layers, activation_funcs, targets, activation_ders)\n",
    "\n",
    "# autograd gradients\n",
    "cost_grad = grad(cost_batch, 0)\n",
    "auto_grads = cost_grad(layers, inputs, activation_funcs, targets)\n",
    "\n",
    "print(\"manual gradients:\")\n",
    "print(manual_grads)\n",
    "\n",
    "print(\"\\nautograd gradients:\")\n",
    "print(auto_grads)\n"
   ]
  },
  {
   "cell_type": "markdown",
   "metadata": {},
   "source": [
    "# Exercise 7 - Training\n"
   ]
  },
  {
   "cell_type": "markdown",
   "metadata": {},
   "source": [
    "**a)** Complete exercise 6 and 7 from last week, but use your own backpropogation implementation to compute the gradient.\n",
    "- IMPORTANT: Do not implement the derivative terms for softmax and cross-entropy separately, it will be very hard!\n",
    "- Instead, use the fact that the derivatives multiplied together simplify to **prediction - target** (see [source1](https://medium.com/data-science/derivative-of-the-softmax-function-and-the-categorical-cross-entropy-loss-ffceefc081d1), [source2](https://shivammehta25.github.io/posts/deriving-categorical-cross-entropy-and-softmax/))\n",
    "\n",
    "**b)** Use stochastic gradient descent with momentum when you train your network.\n"
   ]
  },
  {
   "cell_type": "code",
   "execution_count": 144,
   "metadata": {},
   "outputs": [],
   "source": [
    "def softmax(z):\n",
    "    e = np.exp(z - np.max(z, axis=1, keepdims=True))\n",
    "    return e / np.sum(e, axis=1, keepdims=True)\n",
    "\n",
    "def cross_entropy(pred, target):\n",
    "    return -np.sum(target * np.log(pred + 1e-9)) / len(target)\n",
    "def ReLU(z):\n",
    "    return np.maximum(0, z)\n",
    "\n",
    "def d_ReLU(z):\n",
    "    return (z > 0).astype(float)\n",
    "\n",
    "def sigmoid(z):\n",
    "    return 1 / (1 + np.exp(-z))\n",
    "\n",
    "def d_sigmoid(z):\n",
    "    s = sigmoid(z)\n",
    "    return s * (1 - s)\n"
   ]
  },
  {
   "cell_type": "code",
   "execution_count": 145,
   "metadata": {},
   "outputs": [],
   "source": [
    "def backpropagation_batch(\n",
    "    inputs, layers, activation_funcs, targets, activation_ders\n",
    "):\n",
    "    layer_inputs, zs, predict = feed_forward_saver_batch(inputs, layers, activation_funcs)\n",
    "    grads = [() for _ in layers]\n",
    "    n = inputs.shape[0]\n",
    "\n",
    "    # simplified softmax–cross-entropy derivative\n",
    "    dC_dz = (predict - targets) / n\n",
    "\n",
    "    for i in reversed(range(len(layers))):\n",
    "        a_prev = layer_inputs[i]\n",
    "        dW = a_prev.T @ dC_dz\n",
    "        db = np.mean(dC_dz, axis=0)\n",
    "        grads[i] = (dW, db)\n",
    "        if i > 0:\n",
    "            W, _ = layers[i]\n",
    "            z_prev = zs[i - 1]\n",
    "            f_der = activation_ders[i - 1]\n",
    "            dC_dz = (dC_dz @ W.T) * f_der(z_prev)\n",
    "    return grads\n"
   ]
  },
  {
   "cell_type": "code",
   "execution_count": 146,
   "metadata": {},
   "outputs": [],
   "source": [
    "def train_network_batch(\n",
    "    inputs,\n",
    "    layers,\n",
    "    activation_funcs,\n",
    "    activation_ders,\n",
    "    targets,\n",
    "    learning_rate=0.01,\n",
    "    epochs=500\n",
    "):\n",
    "    for epoch in range(epochs):\n",
    "        grads = backpropagation_batch(inputs, layers, activation_funcs, targets, activation_ders)\n",
    "        for (W, b), (dW, db) in zip(layers, grads):\n",
    "            W -= learning_rate * dW\n",
    "            b -= learning_rate * db\n",
    "\n",
    "        if epoch % 100 == 0 or epoch == epochs - 1:\n",
    "            preds = feed_forward_batch(inputs, layers, activation_funcs)\n",
    "            loss = cross_entropy(preds, targets)\n",
    "            acc = np.mean(np.argmax(preds, 1) == np.argmax(targets, 1))\n",
    "            print(\"Epoch\", epoch, \"Loss:\", round(loss, 4), \"Acc:\", round(acc, 3))\n"
   ]
  },
  {
   "cell_type": "code",
   "execution_count": 147,
   "metadata": {},
   "outputs": [],
   "source": [
    "def train_network_sgd_momentum(\n",
    "    inputs,\n",
    "    layers,\n",
    "    activation_funcs,\n",
    "    activation_ders,\n",
    "    targets,\n",
    "    learning_rate=0.01,\n",
    "    momentum=0.9,\n",
    "    batch_size=16,\n",
    "    epochs=500\n",
    "):\n",
    "    velocities = [(np.zeros_like(W), np.zeros_like(b)) for (W, b) in layers]\n",
    "    n = len(inputs)\n",
    "\n",
    "    for epoch in range(epochs):\n",
    "        idx = np.random.permutation(n)\n",
    "        for start in range(0, n, batch_size):\n",
    "            batch = idx[start:start + batch_size]\n",
    "            Xb, Yb = inputs[batch], targets[batch]\n",
    "\n",
    "            grads = backpropagation_batch(Xb, layers, activation_funcs, Yb, activation_ders)\n",
    "\n",
    "            for j, ((W, b), (dW, db)) in enumerate(zip(layers, grads)):\n",
    "                vW, vb = velocities[j]\n",
    "                vW = momentum * vW - learning_rate * dW\n",
    "                vb = momentum * vb - learning_rate * db\n",
    "                W += vW\n",
    "                b += vb\n",
    "                layers[j] = (W, b)\n",
    "                velocities[j] = (vW, vb)\n",
    "\n",
    "        if epoch % 100 == 0 or epoch == epochs - 1:\n",
    "            preds = feed_forward_batch(inputs, layers, activation_funcs)\n",
    "            loss = cross_entropy(preds, targets)\n",
    "            acc = np.mean(np.argmax(preds, 1) == np.argmax(targets, 1))\n",
    "            print(\"Epoch\", epoch, \"Loss:\", round(loss, 4), \"Acc:\", round(acc, 3))\n"
   ]
  },
  {
   "cell_type": "code",
   "execution_count": 148,
   "metadata": {},
   "outputs": [
    {
     "name": "stdout",
     "output_type": "stream",
     "text": [
      "batc training:\n",
      "Epoch 0 Loss: 13.8155 Acc: 0.333\n",
      "Epoch 100 Loss: 0.1942 Acc: 0.967\n",
      "Epoch 200 Loss: 0.1331 Acc: 0.967\n",
      "Epoch 300 Loss: 0.1084 Acc: 0.967\n",
      "Epoch 400 Loss: 0.0954 Acc: 0.967\n",
      "Epoch 499 Loss: 0.0875 Acc: 0.973\n",
      "\n",
      "stochastic :\n",
      "Epoch 0 Loss: 2.8019 Acc: 0.553\n",
      "Epoch 100 Loss: 0.2493 Acc: 0.96\n",
      "Epoch 200 Loss: 0.1984 Acc: 0.96\n",
      "Epoch 300 Loss: 0.1664 Acc: 0.96\n",
      "Epoch 400 Loss: 0.1482 Acc: 0.96\n",
      "Epoch 500 Loss: 0.1333 Acc: 0.96\n",
      "Epoch 600 Loss: 0.1246 Acc: 0.96\n",
      "Epoch 700 Loss: 0.1178 Acc: 0.967\n",
      "Epoch 800 Loss: 0.1105 Acc: 0.967\n",
      "Epoch 900 Loss: 0.107 Acc: 0.967\n",
      "Epoch 999 Loss: 0.1004 Acc: 0.973\n"
     ]
    }
   ],
   "source": [
    "from sklearn import datasets\n",
    "np.random.seed(314)\n",
    "\n",
    "iris = datasets.load_iris()\n",
    "X = iris.data\n",
    "y = iris.target\n",
    "Y = np.zeros((len(y), 3))\n",
    "Y[np.arange(len(y)), y] = 1\n",
    "\n",
    "np.random.seed(0)\n",
    "layers = create_layers_batch(4, [12, 10, 3])\n",
    "activation_funcs = [ReLU, ReLU, softmax]\n",
    "activation_ders  = [d_ReLU, d_ReLU, None]\n",
    "\n",
    "print(\"batc training:\")\n",
    "train_network_batch(X, layers, activation_funcs, activation_ders, Y, learning_rate=0.01, epochs=500)\n",
    "\n",
    "print(\"\\nstochastic :\")\n",
    "layers = create_layers_batch(4, [12, 10, 3])\n",
    "train_network_sgd_momentum(X, layers, activation_funcs, activation_ders, Y, learning_rate=0.001, momentum=0.9, batch_size=8, epochs=1000)\n"
   ]
  },
  {
   "cell_type": "markdown",
   "metadata": {},
   "source": [
    "# Exercise 8 (Optional) - Object orientation\n",
    "\n",
    "Passing in the layers, activations functions, activation derivatives and cost derivatives into the functions each time leads to code which is easy to understand in isoloation, but messier when used in a larger context with data splitting, data scaling, gradient methods and so forth. Creating an object which stores these values can lead to code which is much easier to use.\n",
    "\n",
    "**a)** Write a neural network class. You are free to implement it how you see fit, though we strongly recommend to not save any input or output values as class attributes, nor let the neural network class handle gradient methods internally. Gradient methods should be handled outside, by performing general operations on the layer_grads list using functions or classes separate to the neural network.\n",
    "\n",
    "We provide here a skeleton structure which should get you started.\n"
   ]
  },
  {
   "cell_type": "code",
   "execution_count": 149,
   "metadata": {},
   "outputs": [],
   "source": [
    "class NeuralNetwork:\n",
    "    def __init__(\n",
    "        self,\n",
    "        network_input_size,\n",
    "        layer_output_sizes,\n",
    "        activation_funcs,\n",
    "        activation_ders,\n",
    "        cost_fun,\n",
    "        cost_der,\n",
    "    ):\n",
    "        pass\n",
    "\n",
    "    def predict(self, inputs):\n",
    "        # Simple feed forward pass\n",
    "        pass\n",
    "\n",
    "    def cost(self, inputs, targets):\n",
    "        pass\n",
    "\n",
    "    def _feed_forward_saver(self, inputs):\n",
    "        pass\n",
    "\n",
    "    def compute_gradient(self, inputs, targets):\n",
    "        pass\n",
    "\n",
    "    def update_weights(self, layer_grads):\n",
    "        pass\n",
    "\n",
    "    # These last two methods are not needed in the project, but they can be nice to have! The first one has a layers parameter so that you can use autograd on it\n",
    "    def autograd_compliant_predict(self, layers, inputs):\n",
    "        pass\n",
    "\n",
    "    def autograd_gradient(self, inputs, targets):\n",
    "        pass"
   ]
  }
 ],
 "metadata": {
  "kernelspec": {
   "display_name": ".venv",
   "language": "python",
   "name": "python3"
  },
  "language_info": {
   "codemirror_mode": {
    "name": "ipython",
    "version": 3
   },
   "file_extension": ".py",
   "mimetype": "text/x-python",
   "name": "python",
   "nbconvert_exporter": "python",
   "pygments_lexer": "ipython3",
   "version": "3.12.0"
  }
 },
 "nbformat": 4,
 "nbformat_minor": 4
}
